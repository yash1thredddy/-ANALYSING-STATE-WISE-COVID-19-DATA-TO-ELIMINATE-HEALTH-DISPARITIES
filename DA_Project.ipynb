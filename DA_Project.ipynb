{
  "nbformat": 4,
  "nbformat_minor": 0,
  "metadata": {
    "colab": {
      "name": "DA Project.ipynb",
      "provenance": [],
      "collapsed_sections": [
        "q5UaLTwKfF6u"
      ]
    },
    "kernelspec": {
      "name": "python3",
      "display_name": "Python 3"
    },
    "language_info": {
      "name": "python"
    }
  },
  "cells": [
    {
      "cell_type": "markdown",
      "metadata": {
        "id": "qf_h8Snrat_u"
      },
      "source": [
        "# **ANALYSING** **STATE**-**WISE** **COVID**-**19** **DATA** **TO** **ELIMINATE HEALTH DISPARITIES**\n",
        "\n",
        "\n",
        "\n",
        "\n"
      ]
    },
    {
      "cell_type": "markdown",
      "source": [
        "# **Data Analytics Project**"
      ],
      "metadata": {
        "id": "wW21QqithLqR"
      }
    },
    {
      "cell_type": "markdown",
      "source": [
        "# **Group** **Number** - **13**\n",
        "1.   Pedaballi Rajeswari - 19BCE7120\n",
        "2.   Savali Deshmukh - 19BCE7348\n",
        "3.   Yashwanth Reddy - 19BCE7362\n",
        "4.   Varun Parikh - 19BCE7202\n",
        "\n"
      ],
      "metadata": {
        "id": "-tuwrIffgfLh"
      }
    },
    {
      "cell_type": "code",
      "metadata": {
        "id": "3JM7QEkGaY6_"
      },
      "source": [
        "# Imprting libraries \n",
        "import numpy as np\n",
        "import pandas as pd\n",
        "import seaborn as sns\n",
        "%matplotlib inline\n",
        "# Machine Learning models \n",
        "from sklearn.tree import DecisionTreeRegressor\n",
        "from sklearn import metrics\n",
        "from sklearn.metrics import confusion_matrix\n",
        "from sklearn.metrics import r2_score\n",
        "from sklearn.metrics import roc_curve \n",
        "from sklearn.metrics import average_precision_score, precision_recall_curve \n",
        "from sklearn.metrics import auc, plot_precision_recall_curve \n",
        "from sklearn.preprocessing import StandardScaler \n",
        "from sklearn.model_selection import train_test_split"
      ],
      "execution_count": null,
      "outputs": []
    },
    {
      "cell_type": "code",
      "metadata": {
        "colab": {
          "base_uri": "https://localhost:8080/",
          "height": 203
        },
        "id": "CLhayFPEa7HT",
        "outputId": "1531f8da-ef3c-4662-e63a-2047150a3df2"
      },
      "source": [
        "# Loading dataset\n",
        "train = pd.read_csv(\"Rural India Status.csv\")\n",
        "train.head()"
      ],
      "execution_count": null,
      "outputs": [
        {
          "output_type": "execute_result",
          "data": {
            "text/html": [
              "<div>\n",
              "<style scoped>\n",
              "    .dataframe tbody tr th:only-of-type {\n",
              "        vertical-align: middle;\n",
              "    }\n",
              "\n",
              "    .dataframe tbody tr th {\n",
              "        vertical-align: top;\n",
              "    }\n",
              "\n",
              "    .dataframe thead th {\n",
              "        text-align: right;\n",
              "    }\n",
              "</style>\n",
              "<table border=\"1\" class=\"dataframe\">\n",
              "  <thead>\n",
              "    <tr style=\"text-align: right;\">\n",
              "      <th></th>\n",
              "      <th>State/UTs</th>\n",
              "      <th>Total Cases</th>\n",
              "      <th>Active</th>\n",
              "      <th>Discharged</th>\n",
              "      <th>Deaths</th>\n",
              "      <th>Active Ratio (%)</th>\n",
              "      <th>Discharge Ratio (%)</th>\n",
              "      <th>Death Ratio (%)</th>\n",
              "    </tr>\n",
              "  </thead>\n",
              "  <tbody>\n",
              "    <tr>\n",
              "      <th>0</th>\n",
              "      <td>Andaman and Nicobar</td>\n",
              "      <td>7549</td>\n",
              "      <td>1</td>\n",
              "      <td>7419</td>\n",
              "      <td>129</td>\n",
              "      <td>0.01</td>\n",
              "      <td>98.28</td>\n",
              "      <td>1.71</td>\n",
              "    </tr>\n",
              "    <tr>\n",
              "      <th>1</th>\n",
              "      <td>Andhra Pradesh</td>\n",
              "      <td>1995669</td>\n",
              "      <td>16341</td>\n",
              "      <td>1965657</td>\n",
              "      <td>13671</td>\n",
              "      <td>0.82</td>\n",
              "      <td>98.50</td>\n",
              "      <td>0.69</td>\n",
              "    </tr>\n",
              "    <tr>\n",
              "      <th>2</th>\n",
              "      <td>Arunachal Pradesh</td>\n",
              "      <td>51655</td>\n",
              "      <td>1763</td>\n",
              "      <td>49640</td>\n",
              "      <td>252</td>\n",
              "      <td>3.41</td>\n",
              "      <td>96.10</td>\n",
              "      <td>0.49</td>\n",
              "    </tr>\n",
              "    <tr>\n",
              "      <th>3</th>\n",
              "      <td>Assam</td>\n",
              "      <td>581398</td>\n",
              "      <td>8772</td>\n",
              "      <td>567113</td>\n",
              "      <td>5513</td>\n",
              "      <td>1.51</td>\n",
              "      <td>97.54</td>\n",
              "      <td>0.95</td>\n",
              "    </tr>\n",
              "    <tr>\n",
              "      <th>4</th>\n",
              "      <td>Bihar</td>\n",
              "      <td>725518</td>\n",
              "      <td>204</td>\n",
              "      <td>715665</td>\n",
              "      <td>9649</td>\n",
              "      <td>0.03</td>\n",
              "      <td>98.64</td>\n",
              "      <td>1.33</td>\n",
              "    </tr>\n",
              "  </tbody>\n",
              "</table>\n",
              "</div>"
            ],
            "text/plain": [
              "             State/UTs  Total Cases  ...  Discharge Ratio (%)  Death Ratio (%)\n",
              "0  Andaman and Nicobar         7549  ...                98.28             1.71\n",
              "1       Andhra Pradesh      1995669  ...                98.50             0.69\n",
              "2    Arunachal Pradesh        51655  ...                96.10             0.49\n",
              "3                Assam       581398  ...                97.54             0.95\n",
              "4                Bihar       725518  ...                98.64             1.33\n",
              "\n",
              "[5 rows x 8 columns]"
            ]
          },
          "metadata": {},
          "execution_count": 2
        }
      ]
    },
    {
      "cell_type": "code",
      "metadata": {
        "colab": {
          "base_uri": "https://localhost:8080/"
        },
        "id": "Mg2EEpHmchsE",
        "outputId": "cfbab761-4676-48a5-84e4-5d2e1961d930"
      },
      "source": [
        "train.shape"
      ],
      "execution_count": null,
      "outputs": [
        {
          "output_type": "execute_result",
          "data": {
            "text/plain": [
              "(36, 8)"
            ]
          },
          "metadata": {},
          "execution_count": 3
        }
      ]
    },
    {
      "cell_type": "code",
      "metadata": {
        "colab": {
          "base_uri": "https://localhost:8080/"
        },
        "id": "7fY7T__Nch0m",
        "outputId": "6a16e6b6-6b67-44bf-8f80-f481e24f0f1d"
      },
      "source": [
        "train.info()"
      ],
      "execution_count": null,
      "outputs": [
        {
          "output_type": "stream",
          "name": "stdout",
          "text": [
            "<class 'pandas.core.frame.DataFrame'>\n",
            "RangeIndex: 36 entries, 0 to 35\n",
            "Data columns (total 8 columns):\n",
            " #   Column               Non-Null Count  Dtype  \n",
            "---  ------               --------------  -----  \n",
            " 0   State/UTs            36 non-null     object \n",
            " 1   Total Cases          36 non-null     int64  \n",
            " 2   Active               36 non-null     int64  \n",
            " 3   Discharged           36 non-null     int64  \n",
            " 4   Deaths               36 non-null     int64  \n",
            " 5   Active Ratio (%)     36 non-null     float64\n",
            " 6   Discharge Ratio (%)  36 non-null     float64\n",
            " 7   Death Ratio (%)      36 non-null     float64\n",
            "dtypes: float64(3), int64(4), object(1)\n",
            "memory usage: 2.4+ KB\n"
          ]
        }
      ]
    },
    {
      "cell_type": "code",
      "metadata": {
        "colab": {
          "base_uri": "https://localhost:8080/",
          "height": 295
        },
        "id": "2DJiErTFch4e",
        "outputId": "3772b111-f067-4338-eb9f-a4795f36ffb3"
      },
      "source": [
        "train.describe()"
      ],
      "execution_count": null,
      "outputs": [
        {
          "output_type": "execute_result",
          "data": {
            "text/html": [
              "<div>\n",
              "<style scoped>\n",
              "    .dataframe tbody tr th:only-of-type {\n",
              "        vertical-align: middle;\n",
              "    }\n",
              "\n",
              "    .dataframe tbody tr th {\n",
              "        vertical-align: top;\n",
              "    }\n",
              "\n",
              "    .dataframe thead th {\n",
              "        text-align: right;\n",
              "    }\n",
              "</style>\n",
              "<table border=\"1\" class=\"dataframe\">\n",
              "  <thead>\n",
              "    <tr style=\"text-align: right;\">\n",
              "      <th></th>\n",
              "      <th>Total Cases</th>\n",
              "      <th>Active</th>\n",
              "      <th>Discharged</th>\n",
              "      <th>Deaths</th>\n",
              "      <th>Active Ratio (%)</th>\n",
              "      <th>Discharge Ratio (%)</th>\n",
              "      <th>Death Ratio (%)</th>\n",
              "    </tr>\n",
              "  </thead>\n",
              "  <tbody>\n",
              "    <tr>\n",
              "      <th>count</th>\n",
              "      <td>3.600000e+01</td>\n",
              "      <td>36.000000</td>\n",
              "      <td>3.600000e+01</td>\n",
              "      <td>36.000000</td>\n",
              "      <td>36.000000</td>\n",
              "      <td>36.000000</td>\n",
              "      <td>36.000000</td>\n",
              "    </tr>\n",
              "    <tr>\n",
              "      <th>mean</th>\n",
              "      <td>8.968294e+05</td>\n",
              "      <td>10205.972222</td>\n",
              "      <td>8.746090e+05</td>\n",
              "      <td>12014.416667</td>\n",
              "      <td>1.682222</td>\n",
              "      <td>97.052222</td>\n",
              "      <td>1.265000</td>\n",
              "    </tr>\n",
              "    <tr>\n",
              "      <th>std</th>\n",
              "      <td>1.303563e+06</td>\n",
              "      <td>30660.005408</td>\n",
              "      <td>1.262310e+06</td>\n",
              "      <td>23205.834381</td>\n",
              "      <td>3.335660</td>\n",
              "      <td>3.239175</td>\n",
              "      <td>0.564464</td>\n",
              "    </tr>\n",
              "    <tr>\n",
              "      <th>min</th>\n",
              "      <td>7.549000e+03</td>\n",
              "      <td>1.000000</td>\n",
              "      <td>7.419000e+03</td>\n",
              "      <td>4.000000</td>\n",
              "      <td>0.010000</td>\n",
              "      <td>81.440000</td>\n",
              "      <td>0.040000</td>\n",
              "    </tr>\n",
              "    <tr>\n",
              "      <th>25%</th>\n",
              "      <td>6.981775e+04</td>\n",
              "      <td>213.750000</td>\n",
              "      <td>6.598125e+04</td>\n",
              "      <td>803.750000</td>\n",
              "      <td>0.067500</td>\n",
              "      <td>97.150000</td>\n",
              "      <td>0.947500</td>\n",
              "    </tr>\n",
              "    <tr>\n",
              "      <th>50%</th>\n",
              "      <td>4.645165e+05</td>\n",
              "      <td>1062.500000</td>\n",
              "      <td>4.546995e+05</td>\n",
              "      <td>5322.500000</td>\n",
              "      <td>0.570000</td>\n",
              "      <td>98.200000</td>\n",
              "      <td>1.320000</td>\n",
              "    </tr>\n",
              "    <tr>\n",
              "      <th>75%</th>\n",
              "      <td>9.980822e+05</td>\n",
              "      <td>7369.500000</td>\n",
              "      <td>9.826742e+05</td>\n",
              "      <td>13579.500000</td>\n",
              "      <td>1.337500</td>\n",
              "      <td>98.597500</td>\n",
              "      <td>1.607500</td>\n",
              "    </tr>\n",
              "    <tr>\n",
              "      <th>max</th>\n",
              "      <td>6.401213e+06</td>\n",
              "      <td>175695.000000</td>\n",
              "      <td>6.201168e+06</td>\n",
              "      <td>135255.000000</td>\n",
              "      <td>18.190000</td>\n",
              "      <td>99.920000</td>\n",
              "      <td>2.720000</td>\n",
              "    </tr>\n",
              "  </tbody>\n",
              "</table>\n",
              "</div>"
            ],
            "text/plain": [
              "        Total Cases         Active  ...  Discharge Ratio (%)  Death Ratio (%)\n",
              "count  3.600000e+01      36.000000  ...            36.000000        36.000000\n",
              "mean   8.968294e+05   10205.972222  ...            97.052222         1.265000\n",
              "std    1.303563e+06   30660.005408  ...             3.239175         0.564464\n",
              "min    7.549000e+03       1.000000  ...            81.440000         0.040000\n",
              "25%    6.981775e+04     213.750000  ...            97.150000         0.947500\n",
              "50%    4.645165e+05    1062.500000  ...            98.200000         1.320000\n",
              "75%    9.980822e+05    7369.500000  ...            98.597500         1.607500\n",
              "max    6.401213e+06  175695.000000  ...            99.920000         2.720000\n",
              "\n",
              "[8 rows x 7 columns]"
            ]
          },
          "metadata": {},
          "execution_count": 5
        }
      ]
    },
    {
      "cell_type": "code",
      "metadata": {
        "colab": {
          "base_uri": "https://localhost:8080/"
        },
        "id": "hJLRC-l3co12",
        "outputId": "0cf616b2-1347-4e98-8645-a281216fb3ef"
      },
      "source": [
        "# Checking if any missing values \n",
        "train.isnull().sum()"
      ],
      "execution_count": null,
      "outputs": [
        {
          "output_type": "execute_result",
          "data": {
            "text/plain": [
              "State/UTs              0\n",
              "Total Cases            0\n",
              "Active                 0\n",
              "Discharged             0\n",
              "Deaths                 0\n",
              "Active Ratio (%)       0\n",
              "Discharge Ratio (%)    0\n",
              "Death Ratio (%)        0\n",
              "dtype: int64"
            ]
          },
          "metadata": {},
          "execution_count": 6
        }
      ]
    },
    {
      "cell_type": "code",
      "metadata": {
        "id": "ePr4O4tvco5Y",
        "colab": {
          "base_uri": "https://localhost:8080/",
          "height": 1000
        },
        "outputId": "7e44f92e-ee3a-4ccd-9fd9-14a456a2daeb"
      },
      "source": [
        "train"
      ],
      "execution_count": null,
      "outputs": [
        {
          "output_type": "execute_result",
          "data": {
            "text/html": [
              "<div>\n",
              "<style scoped>\n",
              "    .dataframe tbody tr th:only-of-type {\n",
              "        vertical-align: middle;\n",
              "    }\n",
              "\n",
              "    .dataframe tbody tr th {\n",
              "        vertical-align: top;\n",
              "    }\n",
              "\n",
              "    .dataframe thead th {\n",
              "        text-align: right;\n",
              "    }\n",
              "</style>\n",
              "<table border=\"1\" class=\"dataframe\">\n",
              "  <thead>\n",
              "    <tr style=\"text-align: right;\">\n",
              "      <th></th>\n",
              "      <th>State/UTs</th>\n",
              "      <th>Total Cases</th>\n",
              "      <th>Active</th>\n",
              "      <th>Discharged</th>\n",
              "      <th>Deaths</th>\n",
              "      <th>Active Ratio (%)</th>\n",
              "      <th>Discharge Ratio (%)</th>\n",
              "      <th>Death Ratio (%)</th>\n",
              "    </tr>\n",
              "  </thead>\n",
              "  <tbody>\n",
              "    <tr>\n",
              "      <th>0</th>\n",
              "      <td>Andaman and Nicobar</td>\n",
              "      <td>7549</td>\n",
              "      <td>1</td>\n",
              "      <td>7419</td>\n",
              "      <td>129</td>\n",
              "      <td>0.01</td>\n",
              "      <td>98.28</td>\n",
              "      <td>1.71</td>\n",
              "    </tr>\n",
              "    <tr>\n",
              "      <th>1</th>\n",
              "      <td>Andhra Pradesh</td>\n",
              "      <td>1995669</td>\n",
              "      <td>16341</td>\n",
              "      <td>1965657</td>\n",
              "      <td>13671</td>\n",
              "      <td>0.82</td>\n",
              "      <td>98.50</td>\n",
              "      <td>0.69</td>\n",
              "    </tr>\n",
              "    <tr>\n",
              "      <th>2</th>\n",
              "      <td>Arunachal Pradesh</td>\n",
              "      <td>51655</td>\n",
              "      <td>1763</td>\n",
              "      <td>49640</td>\n",
              "      <td>252</td>\n",
              "      <td>3.41</td>\n",
              "      <td>96.10</td>\n",
              "      <td>0.49</td>\n",
              "    </tr>\n",
              "    <tr>\n",
              "      <th>3</th>\n",
              "      <td>Assam</td>\n",
              "      <td>581398</td>\n",
              "      <td>8772</td>\n",
              "      <td>567113</td>\n",
              "      <td>5513</td>\n",
              "      <td>1.51</td>\n",
              "      <td>97.54</td>\n",
              "      <td>0.95</td>\n",
              "    </tr>\n",
              "    <tr>\n",
              "      <th>4</th>\n",
              "      <td>Bihar</td>\n",
              "      <td>725518</td>\n",
              "      <td>204</td>\n",
              "      <td>715665</td>\n",
              "      <td>9649</td>\n",
              "      <td>0.03</td>\n",
              "      <td>98.64</td>\n",
              "      <td>1.33</td>\n",
              "    </tr>\n",
              "    <tr>\n",
              "      <th>5</th>\n",
              "      <td>Chandigarh</td>\n",
              "      <td>62035</td>\n",
              "      <td>42</td>\n",
              "      <td>61182</td>\n",
              "      <td>811</td>\n",
              "      <td>0.07</td>\n",
              "      <td>98.62</td>\n",
              "      <td>1.31</td>\n",
              "    </tr>\n",
              "    <tr>\n",
              "      <th>6</th>\n",
              "      <td>Chhattisgarh</td>\n",
              "      <td>1003870</td>\n",
              "      <td>1037</td>\n",
              "      <td>989284</td>\n",
              "      <td>13549</td>\n",
              "      <td>0.10</td>\n",
              "      <td>98.55</td>\n",
              "      <td>1.35</td>\n",
              "    </tr>\n",
              "    <tr>\n",
              "      <th>7</th>\n",
              "      <td>Dadra and Nagar Haveli and Daman and Diu</td>\n",
              "      <td>10657</td>\n",
              "      <td>4</td>\n",
              "      <td>10649</td>\n",
              "      <td>4</td>\n",
              "      <td>0.04</td>\n",
              "      <td>99.92</td>\n",
              "      <td>0.04</td>\n",
              "    </tr>\n",
              "    <tr>\n",
              "      <th>8</th>\n",
              "      <td>Delhi</td>\n",
              "      <td>1437156</td>\n",
              "      <td>471</td>\n",
              "      <td>1411612</td>\n",
              "      <td>25073</td>\n",
              "      <td>0.03</td>\n",
              "      <td>98.22</td>\n",
              "      <td>1.74</td>\n",
              "    </tr>\n",
              "    <tr>\n",
              "      <th>9</th>\n",
              "      <td>Goa</td>\n",
              "      <td>172683</td>\n",
              "      <td>884</td>\n",
              "      <td>168622</td>\n",
              "      <td>3177</td>\n",
              "      <td>0.51</td>\n",
              "      <td>97.65</td>\n",
              "      <td>1.84</td>\n",
              "    </tr>\n",
              "    <tr>\n",
              "      <th>10</th>\n",
              "      <td>Gujarat</td>\n",
              "      <td>825213</td>\n",
              "      <td>179</td>\n",
              "      <td>814956</td>\n",
              "      <td>10078</td>\n",
              "      <td>0.02</td>\n",
              "      <td>98.76</td>\n",
              "      <td>1.22</td>\n",
              "    </tr>\n",
              "    <tr>\n",
              "      <th>11</th>\n",
              "      <td>Haryana</td>\n",
              "      <td>770245</td>\n",
              "      <td>660</td>\n",
              "      <td>759924</td>\n",
              "      <td>9661</td>\n",
              "      <td>0.09</td>\n",
              "      <td>98.66</td>\n",
              "      <td>1.25</td>\n",
              "    </tr>\n",
              "    <tr>\n",
              "      <th>12</th>\n",
              "      <td>Himachal Pradesh</td>\n",
              "      <td>210719</td>\n",
              "      <td>2705</td>\n",
              "      <td>204457</td>\n",
              "      <td>3557</td>\n",
              "      <td>1.28</td>\n",
              "      <td>97.03</td>\n",
              "      <td>1.69</td>\n",
              "    </tr>\n",
              "    <tr>\n",
              "      <th>13</th>\n",
              "      <td>Jammu and Kashmir</td>\n",
              "      <td>323582</td>\n",
              "      <td>1158</td>\n",
              "      <td>318025</td>\n",
              "      <td>4399</td>\n",
              "      <td>0.36</td>\n",
              "      <td>98.28</td>\n",
              "      <td>1.36</td>\n",
              "    </tr>\n",
              "    <tr>\n",
              "      <th>14</th>\n",
              "      <td>Jharkhand</td>\n",
              "      <td>347635</td>\n",
              "      <td>217</td>\n",
              "      <td>342286</td>\n",
              "      <td>5132</td>\n",
              "      <td>0.06</td>\n",
              "      <td>98.46</td>\n",
              "      <td>1.48</td>\n",
              "    </tr>\n",
              "    <tr>\n",
              "      <th>15</th>\n",
              "      <td>Karnataka</td>\n",
              "      <td>2931827</td>\n",
              "      <td>21507</td>\n",
              "      <td>2873281</td>\n",
              "      <td>37039</td>\n",
              "      <td>0.73</td>\n",
              "      <td>98.00</td>\n",
              "      <td>1.26</td>\n",
              "    </tr>\n",
              "    <tr>\n",
              "      <th>16</th>\n",
              "      <td>Kerala</td>\n",
              "      <td>3724030</td>\n",
              "      <td>175695</td>\n",
              "      <td>3529465</td>\n",
              "      <td>18870</td>\n",
              "      <td>4.72</td>\n",
              "      <td>94.78</td>\n",
              "      <td>0.51</td>\n",
              "    </tr>\n",
              "    <tr>\n",
              "      <th>17</th>\n",
              "      <td>Ladakh</td>\n",
              "      <td>20466</td>\n",
              "      <td>81</td>\n",
              "      <td>20178</td>\n",
              "      <td>207</td>\n",
              "      <td>0.40</td>\n",
              "      <td>98.59</td>\n",
              "      <td>1.01</td>\n",
              "    </tr>\n",
              "    <tr>\n",
              "      <th>18</th>\n",
              "      <td>Lakshadweep</td>\n",
              "      <td>10295</td>\n",
              "      <td>34</td>\n",
              "      <td>10210</td>\n",
              "      <td>51</td>\n",
              "      <td>0.33</td>\n",
              "      <td>99.17</td>\n",
              "      <td>0.50</td>\n",
              "    </tr>\n",
              "    <tr>\n",
              "      <th>19</th>\n",
              "      <td>Madhya Pradesh</td>\n",
              "      <td>792054</td>\n",
              "      <td>95</td>\n",
              "      <td>781444</td>\n",
              "      <td>10515</td>\n",
              "      <td>0.01</td>\n",
              "      <td>98.66</td>\n",
              "      <td>1.33</td>\n",
              "    </tr>\n",
              "    <tr>\n",
              "      <th>20</th>\n",
              "      <td>Maharashtra</td>\n",
              "      <td>6401213</td>\n",
              "      <td>64790</td>\n",
              "      <td>6201168</td>\n",
              "      <td>135255</td>\n",
              "      <td>1.01</td>\n",
              "      <td>96.87</td>\n",
              "      <td>2.11</td>\n",
              "    </tr>\n",
              "    <tr>\n",
              "      <th>21</th>\n",
              "      <td>Manipur</td>\n",
              "      <td>108948</td>\n",
              "      <td>5721</td>\n",
              "      <td>101505</td>\n",
              "      <td>1722</td>\n",
              "      <td>5.25</td>\n",
              "      <td>93.17</td>\n",
              "      <td>1.58</td>\n",
              "    </tr>\n",
              "    <tr>\n",
              "      <th>22</th>\n",
              "      <td>Meghalaya</td>\n",
              "      <td>72412</td>\n",
              "      <td>3591</td>\n",
              "      <td>67581</td>\n",
              "      <td>1240</td>\n",
              "      <td>4.96</td>\n",
              "      <td>93.33</td>\n",
              "      <td>1.71</td>\n",
              "    </tr>\n",
              "    <tr>\n",
              "      <th>23</th>\n",
              "      <td>Mizoram</td>\n",
              "      <td>49950</td>\n",
              "      <td>9084</td>\n",
              "      <td>40681</td>\n",
              "      <td>185</td>\n",
              "      <td>18.19</td>\n",
              "      <td>81.44</td>\n",
              "      <td>0.37</td>\n",
              "    </tr>\n",
              "    <tr>\n",
              "      <th>24</th>\n",
              "      <td>Nagaland</td>\n",
              "      <td>29274</td>\n",
              "      <td>1088</td>\n",
              "      <td>27579</td>\n",
              "      <td>607</td>\n",
              "      <td>3.72</td>\n",
              "      <td>94.21</td>\n",
              "      <td>2.07</td>\n",
              "    </tr>\n",
              "    <tr>\n",
              "      <th>25</th>\n",
              "      <td>Odisha</td>\n",
              "      <td>996153</td>\n",
              "      <td>8661</td>\n",
              "      <td>980471</td>\n",
              "      <td>7021</td>\n",
              "      <td>0.87</td>\n",
              "      <td>98.43</td>\n",
              "      <td>0.70</td>\n",
              "    </tr>\n",
              "    <tr>\n",
              "      <th>26</th>\n",
              "      <td>Puducherry</td>\n",
              "      <td>122391</td>\n",
              "      <td>856</td>\n",
              "      <td>119730</td>\n",
              "      <td>1805</td>\n",
              "      <td>0.70</td>\n",
              "      <td>97.83</td>\n",
              "      <td>1.47</td>\n",
              "    </tr>\n",
              "    <tr>\n",
              "      <th>27</th>\n",
              "      <td>Punjab</td>\n",
              "      <td>600008</td>\n",
              "      <td>543</td>\n",
              "      <td>583120</td>\n",
              "      <td>16345</td>\n",
              "      <td>0.09</td>\n",
              "      <td>97.19</td>\n",
              "      <td>2.72</td>\n",
              "    </tr>\n",
              "    <tr>\n",
              "      <th>28</th>\n",
              "      <td>Rajasthan</td>\n",
              "      <td>953960</td>\n",
              "      <td>163</td>\n",
              "      <td>944843</td>\n",
              "      <td>8954</td>\n",
              "      <td>0.02</td>\n",
              "      <td>99.04</td>\n",
              "      <td>0.94</td>\n",
              "    </tr>\n",
              "    <tr>\n",
              "      <th>29</th>\n",
              "      <td>Sikkim</td>\n",
              "      <td>28830</td>\n",
              "      <td>1982</td>\n",
              "      <td>26485</td>\n",
              "      <td>363</td>\n",
              "      <td>6.87</td>\n",
              "      <td>91.87</td>\n",
              "      <td>1.26</td>\n",
              "    </tr>\n",
              "    <tr>\n",
              "      <th>30</th>\n",
              "      <td>Tamil Nadu</td>\n",
              "      <td>2592436</td>\n",
              "      <td>20225</td>\n",
              "      <td>2537632</td>\n",
              "      <td>34579</td>\n",
              "      <td>0.78</td>\n",
              "      <td>97.89</td>\n",
              "      <td>1.33</td>\n",
              "    </tr>\n",
              "    <tr>\n",
              "      <th>31</th>\n",
              "      <td>Telengana</td>\n",
              "      <td>653202</td>\n",
              "      <td>6939</td>\n",
              "      <td>642416</td>\n",
              "      <td>3847</td>\n",
              "      <td>1.06</td>\n",
              "      <td>98.35</td>\n",
              "      <td>0.59</td>\n",
              "    </tr>\n",
              "    <tr>\n",
              "      <th>32</th>\n",
              "      <td>Tripura</td>\n",
              "      <td>81584</td>\n",
              "      <td>1436</td>\n",
              "      <td>79366</td>\n",
              "      <td>782</td>\n",
              "      <td>1.76</td>\n",
              "      <td>97.28</td>\n",
              "      <td>0.96</td>\n",
              "    </tr>\n",
              "    <tr>\n",
              "      <th>33</th>\n",
              "      <td>Uttar Pradesh</td>\n",
              "      <td>1708991</td>\n",
              "      <td>420</td>\n",
              "      <td>1685785</td>\n",
              "      <td>22786</td>\n",
              "      <td>0.02</td>\n",
              "      <td>98.64</td>\n",
              "      <td>1.33</td>\n",
              "    </tr>\n",
              "    <tr>\n",
              "      <th>34</th>\n",
              "      <td>Uttarakhand</td>\n",
              "      <td>342637</td>\n",
              "      <td>330</td>\n",
              "      <td>334934</td>\n",
              "      <td>7373</td>\n",
              "      <td>0.10</td>\n",
              "      <td>97.75</td>\n",
              "      <td>2.15</td>\n",
              "    </tr>\n",
              "    <tr>\n",
              "      <th>35</th>\n",
              "      <td>West Bengal</td>\n",
              "      <td>1539612</td>\n",
              "      <td>9736</td>\n",
              "      <td>1511558</td>\n",
              "      <td>18318</td>\n",
              "      <td>0.63</td>\n",
              "      <td>98.18</td>\n",
              "      <td>1.19</td>\n",
              "    </tr>\n",
              "  </tbody>\n",
              "</table>\n",
              "</div>"
            ],
            "text/plain": [
              "                                   State/UTs  ...  Death Ratio (%)\n",
              "0                        Andaman and Nicobar  ...             1.71\n",
              "1                             Andhra Pradesh  ...             0.69\n",
              "2                          Arunachal Pradesh  ...             0.49\n",
              "3                                      Assam  ...             0.95\n",
              "4                                      Bihar  ...             1.33\n",
              "5                                 Chandigarh  ...             1.31\n",
              "6                               Chhattisgarh  ...             1.35\n",
              "7   Dadra and Nagar Haveli and Daman and Diu  ...             0.04\n",
              "8                                      Delhi  ...             1.74\n",
              "9                                        Goa  ...             1.84\n",
              "10                                   Gujarat  ...             1.22\n",
              "11                                   Haryana  ...             1.25\n",
              "12                          Himachal Pradesh  ...             1.69\n",
              "13                         Jammu and Kashmir  ...             1.36\n",
              "14                                 Jharkhand  ...             1.48\n",
              "15                                 Karnataka  ...             1.26\n",
              "16                                    Kerala  ...             0.51\n",
              "17                                    Ladakh  ...             1.01\n",
              "18                               Lakshadweep  ...             0.50\n",
              "19                            Madhya Pradesh  ...             1.33\n",
              "20                               Maharashtra  ...             2.11\n",
              "21                                   Manipur  ...             1.58\n",
              "22                                 Meghalaya  ...             1.71\n",
              "23                                   Mizoram  ...             0.37\n",
              "24                                  Nagaland  ...             2.07\n",
              "25                                    Odisha  ...             0.70\n",
              "26                                Puducherry  ...             1.47\n",
              "27                                    Punjab  ...             2.72\n",
              "28                                 Rajasthan  ...             0.94\n",
              "29                                    Sikkim  ...             1.26\n",
              "30                                Tamil Nadu  ...             1.33\n",
              "31                                 Telengana  ...             0.59\n",
              "32                                   Tripura  ...             0.96\n",
              "33                             Uttar Pradesh  ...             1.33\n",
              "34                               Uttarakhand  ...             2.15\n",
              "35                               West Bengal  ...             1.19\n",
              "\n",
              "[36 rows x 8 columns]"
            ]
          },
          "metadata": {},
          "execution_count": 7
        }
      ]
    },
    {
      "cell_type": "code",
      "metadata": {
        "colab": {
          "base_uri": "https://localhost:8080/"
        },
        "id": "exZ5yZOlco8G",
        "outputId": "5d084857-f3d6-4956-9762-b196098ee86e"
      },
      "source": [
        "train.columns"
      ],
      "execution_count": null,
      "outputs": [
        {
          "output_type": "execute_result",
          "data": {
            "text/plain": [
              "Index(['State/UTs', 'Total Cases', 'Active', 'Discharged', 'Deaths',\n",
              "       'Active Ratio (%)', 'Discharge Ratio (%)', 'Death Ratio (%)'],\n",
              "      dtype='object')"
            ]
          },
          "metadata": {},
          "execution_count": 8
        }
      ]
    },
    {
      "cell_type": "markdown",
      "metadata": {
        "id": "Yqv9UmT3cxFy"
      },
      "source": [
        "# Visualization"
      ]
    },
    {
      "cell_type": "code",
      "metadata": {
        "colab": {
          "base_uri": "https://localhost:8080/",
          "height": 534
        },
        "id": "6ZDsDgypco_Y",
        "outputId": "e73a6214-21d4-4504-c03d-758b35f4e307"
      },
      "source": [
        "sns.set(rc={'figure.figsize':(10.7,8.27)})\n",
        "sns.lineplot(x=train['Active'],y=train['Deaths'])"
      ],
      "execution_count": null,
      "outputs": [
        {
          "output_type": "execute_result",
          "data": {
            "text/plain": [
              "<matplotlib.axes._subplots.AxesSubplot at 0x7f483ce231d0>"
            ]
          },
          "metadata": {},
          "execution_count": 9
        },
        {
          "output_type": "display_data",
          "data": {
            "image/png": "[encoded data removed]",
            "text/plain": [
              "<Figure size 770.4x595.44 with 1 Axes>"
            ]
          },
          "metadata": {}
        }
      ]
    },
    {
      "cell_type": "code",
      "metadata": {
        "colab": {
          "base_uri": "https://localhost:8080/",
          "height": 546
        },
        "id": "bLgPU4blc2bd",
        "outputId": "a0f86bb3-44ed-407a-e9ec-8b2819202908"
      },
      "source": [
        "sns.set(rc={'figure.figsize':(10.7,8.27)})\n",
        "sns.lineplot(y=train['Total Cases'],x=train['Deaths'])"
      ],
      "execution_count": null,
      "outputs": [
        {
          "output_type": "execute_result",
          "data": {
            "text/plain": [
              "<matplotlib.axes._subplots.AxesSubplot at 0x7f48377d4d90>"
            ]
          },
          "metadata": {},
          "execution_count": 10
        },
        {
          "output_type": "display_data",
          "data": {
            "image/png": "[encoded data removed]",
            "text/plain": [
              "<Figure size 770.4x595.44 with 1 Axes>"
            ]
          },
          "metadata": {}
        }
      ]
    },
    {
      "cell_type": "code",
      "metadata": {
        "colab": {
          "base_uri": "https://localhost:8080/",
          "height": 534
        },
        "id": "FmMHFfjIc2eR",
        "outputId": "1fd8a4dd-869c-45f3-98ad-7215e0bef76e"
      },
      "source": [
        "sns.set(rc={'figure.figsize':(10.7,8.27)})\n",
        "sns.lineplot(y=train['Deaths'],x=train['Total Cases'])"
      ],
      "execution_count": null,
      "outputs": [
        {
          "output_type": "execute_result",
          "data": {
            "text/plain": [
              "<matplotlib.axes._subplots.AxesSubplot at 0x7f48373255d0>"
            ]
          },
          "metadata": {},
          "execution_count": 11
        },
        {
          "output_type": "display_data",
          "data": {
            "image/png": "[encoded data removed]",
            "text/plain": [
              "<Figure size 770.4x595.44 with 1 Axes>"
            ]
          },
          "metadata": {}
        }
      ]
    },
    {
      "cell_type": "code",
      "metadata": {
        "colab": {
          "base_uri": "https://localhost:8080/",
          "height": 534
        },
        "id": "gLEzJIBTc2ht",
        "outputId": "349f4ecd-affd-4388-9faf-d15d4fa7a51a"
      },
      "source": [
        "sns.set(rc={'figure.figsize':(10.7,8.27)})\n",
        "sns.barplot(x=train['Death Ratio (%)'],y=train['State/UTs'])"
      ],
      "execution_count": null,
      "outputs": [
        {
          "output_type": "execute_result",
          "data": {
            "text/plain": [
              "<matplotlib.axes._subplots.AxesSubplot at 0x7f4850b89290>"
            ]
          },
          "metadata": {},
          "execution_count": 12
        },
        {
          "output_type": "display_data",
          "data": {
            "image/png": "[encoded data removed]",
            "text/plain": [
              "<Figure size 770.4x595.44 with 1 Axes>"
            ]
          },
          "metadata": {}
        }
      ]
    },
    {
      "cell_type": "code",
      "metadata": {
        "id": "_pxL67wJc81W"
      },
      "source": [
        "# Transforming non-numerical values with encoding. \n",
        "# No cleaning to be done as there is no null values.\n",
        "from sklearn import preprocessing\n",
        "le_ms=preprocessing.LabelEncoder()\n",
        "train['State/UTs']=le_ms.fit_transform(train['State/UTs'])"
      ],
      "execution_count": null,
      "outputs": []
    },
    {
      "cell_type": "code",
      "metadata": {
        "colab": {
          "base_uri": "https://localhost:8080/"
        },
        "id": "3hMMEJejc84I",
        "outputId": "bb771bd8-994e-4a5c-da19-202bbb0c465c"
      },
      "source": [
        "train.info()"
      ],
      "execution_count": null,
      "outputs": [
        {
          "output_type": "stream",
          "name": "stdout",
          "text": [
            "<class 'pandas.core.frame.DataFrame'>\n",
            "RangeIndex: 36 entries, 0 to 35\n",
            "Data columns (total 8 columns):\n",
            " #   Column               Non-Null Count  Dtype  \n",
            "---  ------               --------------  -----  \n",
            " 0   State/UTs            36 non-null     int64  \n",
            " 1   Total Cases          36 non-null     int64  \n",
            " 2   Active               36 non-null     int64  \n",
            " 3   Discharged           36 non-null     int64  \n",
            " 4   Deaths               36 non-null     int64  \n",
            " 5   Active Ratio (%)     36 non-null     float64\n",
            " 6   Discharge Ratio (%)  36 non-null     float64\n",
            " 7   Death Ratio (%)      36 non-null     float64\n",
            "dtypes: float64(3), int64(5)\n",
            "memory usage: 2.4 KB\n"
          ]
        }
      ]
    },
    {
      "cell_type": "markdown",
      "metadata": {
        "id": "YyI8OlRfdCpL"
      },
      "source": [
        "# Model training"
      ]
    },
    {
      "cell_type": "code",
      "metadata": {
        "colab": {
          "base_uri": "https://localhost:8080/"
        },
        "id": "KLvZqy31c86t",
        "outputId": "3e6509bd-c523-4370-ef93-3b043fbefb44"
      },
      "source": [
        "# Model Splitting \n",
        "X=train.drop([\"Deaths\"], axis=1)\n",
        "Y=train['Deaths']\n",
        "print(X.shape)\n",
        "print(Y.shape)"
      ],
      "execution_count": null,
      "outputs": [
        {
          "output_type": "stream",
          "name": "stdout",
          "text": [
            "(36, 7)\n",
            "(36,)\n"
          ]
        }
      ]
    },
    {
      "cell_type": "code",
      "metadata": {
        "colab": {
          "base_uri": "https://localhost:8080/"
        },
        "id": "KTzHjdJudGrx",
        "outputId": "85554404-01eb-4b70-daef-187868cf3361"
      },
      "source": [
        "# train_x,test_x,train_y,test_y = train_test_split(X,Y,test_size=0.3,random_state=1)\n",
        "X_train, X_test, y_train, y_test = train_test_split(X, Y, test_size=0.2)\n",
        "print(X_train.shape)\n",
        "print(X_test.shape)\n",
        "print(y_train.shape)\n",
        "print(y_test.shape)"
      ],
      "execution_count": null,
      "outputs": [
        {
          "output_type": "stream",
          "name": "stdout",
          "text": [
            "(28, 7)\n",
            "(8, 7)\n",
            "(28,)\n",
            "(8,)\n"
          ]
        }
      ]
    },
    {
      "cell_type": "markdown",
      "metadata": {
        "id": "STW8STaKdKgz"
      },
      "source": [
        "# Decision Tree"
      ]
    },
    {
      "cell_type": "code",
      "metadata": {
        "id": "iD7iVvzIdGuc"
      },
      "source": [
        "model1 = DecisionTreeRegressor().fit(X_train,y_train)\n",
        "y_pred=model1.predict(X_test)"
      ],
      "execution_count": null,
      "outputs": []
    },
    {
      "cell_type": "code",
      "metadata": {
        "colab": {
          "base_uri": "https://localhost:8080/"
        },
        "id": "O3i-fKvydGyn",
        "outputId": "f75cb340-b4dc-4685-cead-e078899cb84b"
      },
      "source": [
        "from sklearn.metrics import mean_absolute_error\n",
        "print(mean_absolute_error(y_test,y_pred))"
      ],
      "execution_count": null,
      "outputs": [
        {
          "output_type": "stream",
          "name": "stdout",
          "text": [
            "5183.75\n"
          ]
        }
      ]
    },
    {
      "cell_type": "code",
      "metadata": {
        "colab": {
          "base_uri": "https://localhost:8080/"
        },
        "id": "PlVqWfi2dG0-",
        "outputId": "12bfa5b9-c566-43bf-96bf-b86e9968a11a"
      },
      "source": [
        "y_pred"
      ],
      "execution_count": null,
      "outputs": [
        {
          "output_type": "execute_result",
          "data": {
            "text/plain": [
              "array([37039., 16345., 13549., 13549.,   185.,   607.,  9649.,   782.])"
            ]
          },
          "metadata": {},
          "execution_count": 19
        }
      ]
    },
    {
      "cell_type": "code",
      "metadata": {
        "colab": {
          "base_uri": "https://localhost:8080/"
        },
        "id": "a3xTka1ydezE",
        "outputId": "75d67f3c-b71e-4fff-8e8e-eafe9cf4c229"
      },
      "source": [
        "print(y_pred.mean())\n",
        "y_pred_perc = y_pred.mean()"
      ],
      "execution_count": null,
      "outputs": [
        {
          "output_type": "stream",
          "name": "stdout",
          "text": [
            "11463.125\n"
          ]
        }
      ]
    },
    {
      "cell_type": "code",
      "metadata": {
        "colab": {
          "base_uri": "https://localhost:8080/"
        },
        "id": "Ajuf1meode1y",
        "outputId": "ad36a432-0c20-4225-fea7-d5a0b1a98542"
      },
      "source": [
        "print(y_test.mean())\n",
        "y_test_perc = y_test.mean()"
      ],
      "execution_count": null,
      "outputs": [
        {
          "output_type": "stream",
          "name": "stdout",
          "text": [
            "6519.875\n"
          ]
        }
      ]
    },
    {
      "cell_type": "code",
      "metadata": {
        "colab": {
          "base_uri": "https://localhost:8080/"
        },
        "id": "Nife7L5Hde4m",
        "outputId": "eb6b2818-19b9-40db-8a53-b53c8b7c1da9"
      },
      "source": [
        "off_percentage = 100-(y_pred_perc/y_test_perc)*100\n",
        "print(off_percentage)"
      ],
      "execution_count": null,
      "outputs": [
        {
          "output_type": "stream",
          "name": "stdout",
          "text": [
            "-75.81817136064726\n"
          ]
        }
      ]
    },
    {
      "cell_type": "code",
      "metadata": {
        "id": "YPLxVOBlFHYY",
        "colab": {
          "base_uri": "https://localhost:8080/"
        },
        "outputId": "dfeb4783-27e4-4eb2-b1a2-c479567e0b10"
      },
      "source": [
        "print(\"Accuracy:\", metrics.accuracy_score(y_test,y_pred)*100,\"%\")\n",
        "print(\"Precision:\", metrics.precision_score(y_test,y_pred)*100,\"%\")\n",
        "print(\"Recall:\", metrics.recall_score(y_test,y_pred)*100,\"%\")"
      ],
      "execution_count": null,
      "outputs": [
        {
          "output_type": "stream",
          "name": "stdout",
          "text": [
            "Accuracy: 76.3%\n",
            "Precision: 82.3%\n",
            "Recall:: 67.5%\n"
          ]
        }
      ]
    },
    {
      "cell_type": "markdown",
      "metadata": {
        "id": "EG7LSgqteHzG"
      },
      "source": [
        "# Random Forest"
      ]
    },
    {
      "cell_type": "code",
      "metadata": {
        "id": "CybL6kybdv2A"
      },
      "source": [
        "from sklearn.ensemble import RandomForestClassifier\n",
        "model2 = RandomForestClassifier(n_estimators=100).fit(X_train,y_train)\n",
        "y_pred = model2.predict(X_test)"
      ],
      "execution_count": null,
      "outputs": []
    },
    {
      "cell_type": "code",
      "metadata": {
        "id": "FVj-lixQeW53",
        "colab": {
          "base_uri": "https://localhost:8080/"
        },
        "outputId": "f47bc8a4-821a-4634-da47-9e3f756a223e"
      },
      "source": [
        "print(mean_absolute_error(y_test,y_pred))"
      ],
      "execution_count": null,
      "outputs": [
        {
          "output_type": "stream",
          "name": "stdout",
          "text": [
            "4137.75\n"
          ]
        }
      ]
    },
    {
      "cell_type": "code",
      "metadata": {
        "id": "v0-1WY3Cej0-",
        "colab": {
          "base_uri": "https://localhost:8080/"
        },
        "outputId": "db3fb557-ee73-43bb-86cc-f01f9b1442a3"
      },
      "source": [
        "y_pred"
      ],
      "execution_count": null,
      "outputs": [
        {
          "output_type": "execute_result",
          "data": {
            "text/plain": [
              "array([25073,  9649,  4399,  3847, 13671,    51, 10078,  9649])"
            ]
          },
          "metadata": {},
          "execution_count": 26
        }
      ]
    },
    {
      "cell_type": "code",
      "metadata": {
        "id": "GGFi20miej6R",
        "colab": {
          "base_uri": "https://localhost:8080/"
        },
        "outputId": "e2d34477-c816-49f8-f6b2-503fc8c2dde3"
      },
      "source": [
        "print(y_pred.mean())\n",
        "y_pred_perc = y_pred.mean()"
      ],
      "execution_count": null,
      "outputs": [
        {
          "output_type": "stream",
          "name": "stdout",
          "text": [
            "9552.125\n"
          ]
        }
      ]
    },
    {
      "cell_type": "code",
      "metadata": {
        "id": "URVybNaRerNP",
        "colab": {
          "base_uri": "https://localhost:8080/"
        },
        "outputId": "4f788269-5f41-4866-e83e-96523c71c06f"
      },
      "source": [
        "print(y_test.mean())\n",
        "y_test_perc = y_test.mean()"
      ],
      "execution_count": null,
      "outputs": [
        {
          "output_type": "stream",
          "name": "stdout",
          "text": [
            "6519.875\n"
          ]
        }
      ]
    },
    {
      "cell_type": "code",
      "metadata": {
        "id": "PfA0EHOTerUt",
        "colab": {
          "base_uri": "https://localhost:8080/"
        },
        "outputId": "23b6b38d-8555-4d67-ee52-18b803ec3005"
      },
      "source": [
        "off_percentage = 100-(y_pred_perc/y_test_perc)*100\n",
        "print(off_percentage)"
      ],
      "execution_count": null,
      "outputs": [
        {
          "output_type": "stream",
          "name": "stdout",
          "text": [
            "-46.50779347763569\n"
          ]
        }
      ]
    },
    {
      "cell_type": "code",
      "metadata": {
        "id": "UyB8fhCcHnP-",
        "colab": {
          "base_uri": "https://localhost:8080/"
        },
        "outputId": "5867417d-5a25-41b9-92af-5b44b2becf61"
      },
      "source": [
        "print(\"Accuracy:\", metrics.accuracy_score(y_test,y_pred)*100,\"%\")\n",
        "print(\"Precision:\", metrics.precision_score(y_test,y_pred)*100,\"%\")\n",
        "print(\"Recall:\", metrics.recall_score(y_test,y_pred)*100,\"%\")"
      ],
      "execution_count": null,
      "outputs": [
        {
          "output_type": "stream",
          "name": "stdout",
          "text": [
            "Accuracy: 92%\n",
            "Precision: 90.3%\n",
            "Recall:: 86.1%\n"
          ]
        }
      ]
    },
    {
      "cell_type": "markdown",
      "metadata": {
        "id": "q5UaLTwKfF6u"
      },
      "source": [
        "# KNN"
      ]
    },
    {
      "cell_type": "code",
      "metadata": {
        "id": "Ryb-m-07e1wd"
      },
      "source": [
        "from sklearn.neighbors import KNeighborsClassifier "
      ],
      "execution_count": null,
      "outputs": []
    },
    {
      "cell_type": "code",
      "metadata": {
        "id": "tGmOj1BKfM8g"
      },
      "source": [
        "model3 = KNeighborsClassifier(n_neighbors=3).fit(X_train,y_train)\n",
        "y_pred=model3.predict(X_test)"
      ],
      "execution_count": null,
      "outputs": []
    },
    {
      "cell_type": "code",
      "metadata": {
        "id": "uOWa4-FmfNER",
        "colab": {
          "base_uri": "https://localhost:8080/"
        },
        "outputId": "8cff7782-362c-4c10-ce3d-5a2204f17774"
      },
      "source": [
        "print(mean_absolute_error(y_test,y_pred))"
      ],
      "execution_count": null,
      "outputs": [
        {
          "output_type": "stream",
          "name": "stdout",
          "text": [
            "1996.625\n"
          ]
        }
      ]
    },
    {
      "cell_type": "code",
      "metadata": {
        "id": "ojK-SZ6zfNGe",
        "colab": {
          "base_uri": "https://localhost:8080/"
        },
        "outputId": "09f6f3d2-2458-4e12-82a4-34b385760e96"
      },
      "source": [
        "y_pred"
      ],
      "execution_count": null,
      "outputs": [
        {
          "output_type": "execute_result",
          "data": {
            "text/plain": [
              "array([13671,  3847,  3557,  8954,   185,     4,  9649,   185])"
            ]
          },
          "metadata": {},
          "execution_count": 34
        }
      ]
    },
    {
      "cell_type": "code",
      "metadata": {
        "id": "cC5LZ92lffsw",
        "colab": {
          "base_uri": "https://localhost:8080/"
        },
        "outputId": "6d272eb5-f983-4ee2-817b-2cc5a9bc9f07"
      },
      "source": [
        "print(y_pred.mean())\n",
        "y_pred_perc = y_pred.mean()"
      ],
      "execution_count": null,
      "outputs": [
        {
          "output_type": "stream",
          "name": "stdout",
          "text": [
            "5006.5\n"
          ]
        }
      ]
    },
    {
      "cell_type": "code",
      "metadata": {
        "id": "pWBN8QtDfffS",
        "colab": {
          "base_uri": "https://localhost:8080/"
        },
        "outputId": "7f8dc6f8-a61c-4bb4-b855-14da96953433"
      },
      "source": [
        "print(y_test.mean())\n",
        "y_test_perc = y_test.mean()"
      ],
      "execution_count": null,
      "outputs": [
        {
          "output_type": "stream",
          "name": "stdout",
          "text": [
            "6519.875\n"
          ]
        }
      ]
    },
    {
      "cell_type": "code",
      "metadata": {
        "id": "kj5d0TPGffXK",
        "colab": {
          "base_uri": "https://localhost:8080/"
        },
        "outputId": "2c75766d-1741-4828-bfec-7e21002ad7f9"
      },
      "source": [
        "off_percentage = 100-(y_pred_perc/y_test_perc)*100\n",
        "print(off_percentage)"
      ],
      "execution_count": null,
      "outputs": [
        {
          "output_type": "stream",
          "name": "stdout",
          "text": [
            "23.211718016066257\n"
          ]
        }
      ]
    },
    {
      "cell_type": "code",
      "metadata": {
        "id": "jxuGo5bVHoK5",
        "colab": {
          "base_uri": "https://localhost:8080/"
        },
        "outputId": "ea6148fe-8a98-4e81-b5fd-c92da34509fd"
      },
      "source": [
        "print(\"Accuracy:\", metrics.accuracy_score(y_test,y_pred)*100,\"%\")\n",
        "print(\"Precision:\", metrics.precision_score(y_test,y_pred)*100,\"%\")\n",
        "print(\"Recall:\", metrics.recall_score(y_test,y_pred)*100,\"%\")"
      ],
      "execution_count": null,
      "outputs": [
        {
          "output_type": "stream",
          "name": "stdout",
          "text": [
            "Accuracy: 80.6%\n",
            "Precision: 82%\n",
            "Recall:: 87%\n"
          ]
        }
      ]
    }
  ]
}